import keras
import numpy as np
import pandas as pd
import seaborn as sns
import matplotlib.pyplot as plt
(x_train, y_train), (x_test, y_test)=keras.datasets.fashion_mnist.load_data()
